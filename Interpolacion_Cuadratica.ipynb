{
  "nbformat": 4,
  "nbformat_minor": 0,
  "metadata": {
    "colab": {
      "name": "Interpolacion_Cuadratica.ipynb",
      "provenance": [],
      "collapsed_sections": [],
      "include_colab_link": true
    },
    "kernelspec": {
      "name": "python3",
      "display_name": "Python 3"
    }
  },
  "cells": [
    {
      "cell_type": "markdown",
      "metadata": {
        "id": "view-in-github",
        "colab_type": "text"
      },
      "source": [
        "<a href=\"https://colab.research.google.com/github/yalex1402/pyProjects/blob/master/Interpolacion_Cuadratica.ipynb\" target=\"_parent\"><img src=\"https://colab.research.google.com/assets/colab-badge.svg\" alt=\"Open In Colab\"/></a>"
      ]
    },
    {
      "cell_type": "code",
      "metadata": {
        "id": "sUxXmWXDbM9i",
        "colab_type": "code",
        "colab": {}
      },
      "source": [
        "#Import libraries\n",
        "import sympy as sy\n",
        "import numpy as np\n",
        "import math as mt\n",
        "import matplotlib.pyplot as plt"
      ],
      "execution_count": 0,
      "outputs": []
    },
    {
      "cell_type": "code",
      "metadata": {
        "id": "uMod1cNqcztE",
        "colab_type": "code",
        "colab": {}
      },
      "source": [
        "#Global variables and methods\n",
        "\n",
        "lim_sup = 0\n",
        "lim_inf = 0\n",
        "lim_mid = 0\n",
        "\n",
        "# Ingresar función manualmente\n",
        "def get_function_result(value):\n",
        "  return (2*np.sin(value))-((value**2)/10)\n",
        "\n",
        "def check_greater(value_1, value_2):\n",
        "  return value_1 > value_2\n",
        "\n",
        "def get_numerador(lim_sup,lim_mid,lim_inf):\n",
        "  return ((get_function_result(lim_inf)*((lim_mid**2)-(lim_sup**2)))+(get_function_result(lim_mid)*((lim_sup**2)-(lim_inf**2)))+(get_function_result(lim_sup)*((lim_inf**2)-(lim_mid**2))))\n",
        "\n",
        "def get_denominador(lim_sup,lim_mid,lim_inf):\n",
        "  return (2*(get_function_result(lim_inf)*((lim_mid)-(lim_sup)))+(2*get_function_result(lim_mid)*((lim_sup)-(lim_inf)))+(2*get_function_result(lim_sup)*((lim_inf)-(lim_mid))))\n"
      ],
      "execution_count": 0,
      "outputs": []
    },
    {
      "cell_type": "code",
      "metadata": {
        "id": "eLZGwBdNgk9t",
        "colab_type": "code",
        "outputId": "165ad0d7-d949-4249-8228-fd30e0b32c33",
        "colab": {
          "base_uri": "https://localhost:8080/",
          "height": 85
        }
      },
      "source": [
        "lim_inf = float(input(\"Valor más bajo del rango inicial: \"))\n",
        "lim_mid = float(input(\"Valor central del rango: \"))\n",
        "lim_sup = float(input(\"Valor más alto del rango inicial: \"))\n",
        "cant_iteraciones = int(input(\"Cantidad de veces a iterar: \"))"
      ],
      "execution_count": 0,
      "outputs": [
        {
          "output_type": "stream",
          "text": [
            "Valor más bajo del rango inicial: 0\n",
            "Valor central del rango: 1\n",
            "Valor más alto del rango inicial: 4\n",
            "Cantidad de veces a iterar: 100\n"
          ],
          "name": "stdout"
        }
      ]
    },
    {
      "cell_type": "code",
      "metadata": {
        "id": "RQhdKUeng4g-",
        "colab_type": "code",
        "outputId": "bae70980-d077-4f24-c590-8ee0231f3414",
        "colab": {
          "base_uri": "https://localhost:8080/",
          "height": 34
        }
      },
      "source": [
        "for i in range(cant_iteraciones):\n",
        "  if get_denominador(lim_sup,lim_mid,lim_inf) != 0:\n",
        "    new_lim = get_numerador(lim_sup,lim_mid,lim_inf)/get_denominador(lim_sup,lim_mid,lim_inf)\n",
        "    if check_greater(new_lim,lim_mid):\n",
        "        lim_inf = lim_mid\n",
        "        lim_mid = new_lim\n",
        "    else:\n",
        "        lim_sup = lim_mid\n",
        "        lim_mid = new_lim\n",
        "  else:\n",
        "    i = cant_iteraciones + 1\n",
        "print(\"El valor optimo es: \",round(new_lim,5))"
      ],
      "execution_count": 0,
      "outputs": [
        {
          "output_type": "stream",
          "text": [
            "El valor optimo es:  5.26712\n"
          ],
          "name": "stdout"
        }
      ]
    }
  ]
}