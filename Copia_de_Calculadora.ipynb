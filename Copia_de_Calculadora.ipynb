{
  "nbformat": 4,
  "nbformat_minor": 0,
  "metadata": {
    "colab": {
      "name": "Copia de Calculadora.ipynb",
      "provenance": [],
      "collapsed_sections": [],
      "include_colab_link": true
    },
    "kernelspec": {
      "name": "python3",
      "display_name": "Python 3"
    }
  },
  "cells": [
    {
      "cell_type": "markdown",
      "metadata": {
        "id": "view-in-github",
        "colab_type": "text"
      },
      "source": [
        "<a href=\"https://colab.research.google.com/github/yalex1402/pyProjects/blob/master/Copia_de_Calculadora.ipynb\" target=\"_parent\"><img src=\"https://colab.research.google.com/assets/colab-badge.svg\" alt=\"Open In Colab\"/></a>"
      ]
    },
    {
      "cell_type": "code",
      "metadata": {
        "id": "uTBGSVaqOeKC",
        "colab_type": "code",
        "colab": {}
      },
      "source": [
        "#Import useful libraries\n",
        "import math as mt\n",
        "import sympy as sy"
      ],
      "execution_count": 0,
      "outputs": []
    },
    {
      "cell_type": "code",
      "metadata": {
        "id": "KaWR951UXHLp",
        "colab_type": "code",
        "colab": {}
      },
      "source": [
        "# Basic Operations\n",
        "\n",
        "def sum(first_number, second_number):\n",
        "  return first_number+second_number\n",
        "\n",
        "def dif(first_number, second_number):\n",
        "  return first_number-second_number\n",
        "\n",
        "def mult(first_number, second_number):\n",
        "  return first_number*second_number\n",
        "\n",
        "def div(first_number, second_number):\n",
        "  return first_number/second_number\n",
        "\n",
        "# Validations\n",
        "\n",
        "def check_possitive(number):\n",
        "  return number > 0\n",
        "\n",
        "def select_option(option):\n",
        "  if option == 1:\n",
        "    return sum(first_number,second_number)\n",
        "  elif option==2:\n",
        "    return dif(first_number,second_number)\n",
        "  elif  option==3:\n",
        "    return mult(first_number,second_number)\n",
        "  else:\n",
        "    return div(first_number,second_number)"
      ],
      "execution_count": 0,
      "outputs": []
    },
    {
      "cell_type": "code",
      "metadata": {
        "id": "XvaGxqgfYVJU",
        "colab_type": "code",
        "outputId": "6c55a5dc-00f5-4388-fa3c-37dba735eb35",
        "colab": {
          "base_uri": "https://localhost:8080/",
          "height": 136
        }
      },
      "source": [
        "print(\"Select the operation that you wanna use: \\n 1) '+' \\t 2) '-'\\n 3) '*' \\t 4) '/'\")\n",
        "option = int(input(\"Option selected is: \"))\n",
        "while option <=0 or option >4:\n",
        "  option = int(input(\"Option selected is: \"))\n",
        "first_number = float(input(\"First number: \"))\n",
        "second_number = float(input(\"Second number: \"))\n",
        "if option == 4 and not check_possitive(second_number):\n",
        "  while second_number ==0:\n",
        "    second_number = float(input(\"Second number: \"))\n",
        "select_option(option)"
      ],
      "execution_count": 0,
      "outputs": [
        {
          "output_type": "stream",
          "text": [
            "Select the operation that you wanna use: \n",
            " 1) '+' \t 2) '-'\n",
            " 3) '*' \t 4) '/'\n",
            "Option selected is: 4\n",
            "First number: 5\n",
            "Second number: 2\n"
          ],
          "name": "stdout"
        },
        {
          "output_type": "execute_result",
          "data": {
            "text/plain": [
              "2.5"
            ]
          },
          "metadata": {
            "tags": []
          },
          "execution_count": 10
        }
      ]
    }
  ]
}