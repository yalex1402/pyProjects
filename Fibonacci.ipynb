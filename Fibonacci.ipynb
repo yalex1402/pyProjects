{
  "nbformat": 4,
  "nbformat_minor": 0,
  "metadata": {
    "colab": {
      "name": "Fibonacci.ipynb",
      "provenance": [],
      "collapsed_sections": [],
      "include_colab_link": true
    },
    "kernelspec": {
      "name": "python3",
      "display_name": "Python 3"
    }
  },
  "cells": [
    {
      "cell_type": "markdown",
      "metadata": {
        "id": "view-in-github",
        "colab_type": "text"
      },
      "source": [
        "<a href=\"https://colab.research.google.com/github/yalex1402/pyProjects/blob/master/Fibonacci.ipynb\" target=\"_parent\"><img src=\"https://colab.research.google.com/assets/colab-badge.svg\" alt=\"Open In Colab\"/></a>"
      ]
    },
    {
      "cell_type": "code",
      "metadata": {
        "id": "1n5Glk5G7dAN",
        "colab_type": "code",
        "colab": {}
      },
      "source": [
        "#Import libraries\n",
        "import sympy as sy\n",
        "import numpy as np\n",
        "import math as mt\n",
        "import matplotlib.pyplot as plt"
      ],
      "execution_count": 0,
      "outputs": []
    },
    {
      "cell_type": "code",
      "metadata": {
        "id": "9Uj_kM157rEU",
        "colab_type": "code",
        "colab": {}
      },
      "source": [
        "#Global variables and methods\n",
        "\n",
        "lim_sup = 0\n",
        "lim_inf = 0\n",
        "tolerance = 0\n",
        "distance_inf = 0\n",
        "distance_sup = 0\n",
        "\n",
        "#Ingresar función manualmente\n",
        "def get_function_result(value):\n",
        "  return value*(5*mt.pi-value)\n",
        "\n",
        "def get_distance(value_sup, value_inf,fibo_number):\n",
        "  return (value_sup-value_inf)/fibo_number\n",
        "\n",
        "def get_fibonacci_number(tolerance, value_sup, value_inf):\n",
        "  return find_fibonacci_number((value_sup-value_inf)/tolerance)\n",
        "\n",
        "def find_fibonacci_number(value):\n",
        "  fibo_number = 1\n",
        "  fibo_position = 1\n",
        "  fibo_number_ant = 1\n",
        "  while check_greater_equal(value,fibo_number):\n",
        "    a = fibo_number\n",
        "    fibo_number += fibo_number_ant\n",
        "    fibo_number_ant = a \n",
        "    fibo_position += 1\n",
        "  fibonacci=[fibo_number,fibo_position]\n",
        "  return fibonacci\n",
        "\n",
        "def get_fibonacci_before_number(actual_position):\n",
        "  fibo_number = 1\n",
        "  fibo_position = 1\n",
        "  fibo_number_ant = 1\n",
        "  for i in range(actual_position-2):\n",
        "    a = fibo_number\n",
        "    fibo_number += fibo_number_ant\n",
        "    fibo_number_ant = a \n",
        "    fibo_position += 1\n",
        "  fibonacci=[fibo_number,fibo_position]\n",
        "  return fibonacci\n",
        "\n",
        "def check_greater_equal(value_1, value_2):\n",
        "  return value_1 >= value_2\n",
        "\n",
        "def check_greater(value_1, value_2):\n",
        "  return value_1 > value_2\n",
        "\n",
        "def get_distance_sup(distance):\n",
        "  return lim_inf + distance\n",
        "\n",
        "def get_distance_inf(distance):\n",
        "  return lim_sup - distance\n",
        "\n",
        "def draw_function(value_sup , value_inf):\n",
        "  x = sy.symbols('x')\n",
        "  x= np.linspace(value_inf,value_sup,100)\n",
        "  plt.plot(x, (x*(5*sy.pi-x)))\n",
        "  plt.grid()\n",
        "  plt.show()\n",
        "\n"
      ],
      "execution_count": 0,
      "outputs": []
    },
    {
      "cell_type": "code",
      "metadata": {
        "id": "Sfrow-x2A6th",
        "colab_type": "code",
        "outputId": "3130eb99-9eaa-4ac6-b6a7-b422607b9e75",
        "colab": {
          "base_uri": "https://localhost:8080/",
          "height": 68
        }
      },
      "source": [
        "# IN data\n",
        "\n",
        "lim_inf = float(input(\"Valor más bajo del rango inicial: \"))\n",
        "lim_sup = float(input(\"Valor más alto del rango inicial: \"))\n",
        "tolerance = int(input(\"Ingrese el valor de 'e': \"))"
      ],
      "execution_count": 0,
      "outputs": [
        {
          "output_type": "stream",
          "text": [
            "Valor más bajo del rango inicial: 0\n",
            "Valor más alto del rango inicial: 20\n",
            "Ingrese el valor de 'e': 1\n"
          ],
          "name": "stdout"
        }
      ]
    },
    {
      "cell_type": "code",
      "metadata": {
        "id": "6MCA9dsBva5J",
        "colab_type": "code",
        "outputId": "4ba7c8d8-c0a2-48b6-bbb9-8f5bb1482b6d",
        "colab": {
          "base_uri": "https://localhost:8080/",
          "height": 299
        }
      },
      "source": [
        "draw_function(lim_inf,lim_sup)\n",
        "distance = get_distance(lim_sup, lim_inf, get_fibonacci_number(tolerance,lim_sup,lim_inf)[0])\n",
        "fibo_position = get_fibonacci_number(tolerance,lim_sup,lim_inf)[1]\n",
        "while fibo_position >= 1:\n",
        "  distance_sup = get_distance_sup(distance*get_fibonacci_before_number(fibo_position)[0])\n",
        "  distance_inf = get_distance_inf(distance*get_fibonacci_before_number(fibo_position)[0])\n",
        "  if check_greater(get_function_result(distance_sup),get_function_result(distance_inf)):\n",
        "    lim_inf = distance_inf\n",
        "    distance_inf = distance_sup\n",
        "    distance_sup = get_distance_sup(distance*get_fibonacci_before_number(fibo_position)[0])\n",
        "  else:\n",
        "    lim_sup = distance_sup\n",
        "    distance_sup = distance_inf\n",
        "    distance_inf = get_distance_inf(distance*get_fibonacci_before_number(fibo_position)[0])\n",
        "  fibo_position = fibo_position - 1\n",
        "print(\"El valor más cercano por la izq. es: \",round(distance_inf,5),\"\\nEl valor más cercano por la der. es: \",round(distance_sup,5))"
      ],
      "execution_count": 0,
      "outputs": [
        {
          "output_type": "display_data",
          "data": {
            "image/png": "[encoded data removed]",
            "text/plain": [
              "<Figure size 432x288 with 1 Axes>"
            ]
          },
          "metadata": {
            "tags": []
          }
        },
        {
          "output_type": "stream",
          "text": [
            "El valor más cercano por la izq. es:  7.61905 \n",
            "El valor más cercano por la der. es:  7.61905\n"
          ],
          "name": "stdout"
        }
      ]
    }
  ]
}