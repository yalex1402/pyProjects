{
  "nbformat": 4,
  "nbformat_minor": 0,
  "metadata": {
    "colab": {
      "name": "Seccion_Dorada.ipynb",
      "provenance": [],
      "collapsed_sections": [],
      "include_colab_link": true
    },
    "kernelspec": {
      "name": "python3",
      "display_name": "Python 3"
    }
  },
  "cells": [
    {
      "cell_type": "markdown",
      "metadata": {
        "id": "view-in-github",
        "colab_type": "text"
      },
      "source": [
        "<a href=\"https://colab.research.google.com/github/yalex1402/pyProjects/blob/master/Seccion_Dorada.ipynb\" target=\"_parent\"><img src=\"https://colab.research.google.com/assets/colab-badge.svg\" alt=\"Open In Colab\"/></a>"
      ]
    },
    {
      "cell_type": "code",
      "metadata": {
        "id": "0bdULJCPybNE",
        "colab_type": "code",
        "colab": {}
      },
      "source": [
        "#Import libraries\n",
        "import sympy as sy\n",
        "import numpy as np\n",
        "import math as mt\n",
        "import matplotlib.pyplot as plt"
      ],
      "execution_count": 0,
      "outputs": []
    },
    {
      "cell_type": "code",
      "metadata": {
        "id": "bttaoY3ByzMz",
        "colab_type": "code",
        "colab": {}
      },
      "source": [
        "#Global variables and methods\n",
        "\n",
        "error = 0\n",
        "lim_sup = 0\n",
        "lim_inf = 0\n",
        "tolerance = 0 \n",
        "distance_inf = 0\n",
        "distance_sup = 0\n",
        "\n",
        "def get_distance(value_sup , value_inf):\n",
        "  return ((np.sqrt(5)-1)/2)*(value_sup - value_inf)\n",
        "\n",
        "def get_function_result(value):\n",
        "  return (-1.5 * (mt.pow(value,6))) - (2 * (mt.pow(value,4))) + 12 * value\n",
        "\n",
        "def check_tolerance(value_sup , value_inf):\n",
        "  return (np.abs(value_sup - value_inf)) > tolerance\n",
        "\n",
        "def check_greater(value_1, value_2):\n",
        "  return value_1 > value_2\n",
        "\n",
        "def get_distance_sup(distance):\n",
        "  return lim_inf + distance\n",
        "\n",
        "def get_distance_inf(distance):\n",
        "  return lim_sup - distance\n",
        "\n",
        "def get_error(value_sup , value_inf):\n",
        "  return np.abs(value_sup - value_inf)*100\n",
        "\n",
        "def draw_function(value_sup , value_inf):\n",
        "  x = sy.symbols('x')\n",
        "  x= np.linspace(value_inf,value_sup,100)\n",
        "  plt.plot(x, ((-1.5*(x**6))-(2*(x**4))+(12*x)))\n",
        "  plt.grid()\n",
        "  plt.show()\n"
      ],
      "execution_count": 0,
      "outputs": []
    },
    {
      "cell_type": "code",
      "metadata": {
        "id": "wt2FYln_53gE",
        "colab_type": "code",
        "outputId": "44d97342-6e19-4737-9f1f-2342b9cc7bba",
        "colab": {
          "base_uri": "https://localhost:8080/",
          "height": 72
        }
      },
      "source": [
        "# IN data\n",
        "\n",
        "lim_sup = float(input(\"Valor más alto del rango inicial: \"))\n",
        "lim_inf = float(input(\"Valor más bajo del rango inicial: \"))\n",
        "tolerance= float(float(input(\"tolerancia (%): \"))/100)\n"
      ],
      "execution_count": 0,
      "outputs": [
        {
          "output_type": "stream",
          "text": [
            "Valor más alto del rango inicial: 2\n",
            "Valor más bajo del rango inicial: 0\n",
            "tolerancia (%): 1\n"
          ],
          "name": "stdout"
        }
      ]
    },
    {
      "cell_type": "code",
      "metadata": {
        "id": "DACaOydO7AWp",
        "colab_type": "code",
        "outputId": "94eff152-514c-4fb7-b322-e117aa334abe",
        "colab": {
          "base_uri": "https://localhost:8080/",
          "height": 324
        }
      },
      "source": [
        "#Process\n",
        "draw_function(lim_sup,lim_inf)\n",
        "distance_sup = get_distance_sup(get_distance(lim_sup,lim_inf))\n",
        "distance_inf = get_distance_inf(get_distance(lim_sup,lim_inf))\n",
        "while check_tolerance(distance_sup,distance_inf):\n",
        "  if check_greater(get_function_result(distance_sup),get_function_result(distance_inf)):\n",
        "    lim_inf = distance_inf\n",
        "    distance_inf = distance_sup\n",
        "    distance_sup = get_distance_sup(get_distance(lim_sup,lim_inf))\n",
        "  else:\n",
        "    lim_sup = distance_sup\n",
        "    distance_sup = distance_inf\n",
        "    distance_inf = get_distance_inf(get_distance(lim_sup,lim_inf))\n",
        "  error = get_error(distance_sup,distance_inf)\n",
        "print(\"El valor más cercano por la izq. es: \",round(distance_inf,5),\"\\nEl valor más cercano por la der. es: \",round(distance_sup,5), \"\\nEl error es de (%): \",round(error,2),\"%\")"
      ],
      "execution_count": 0,
      "outputs": [
        {
          "output_type": "display_data",
          "data": {
            "image/png": "[encoded data removed]",
            "text/plain": [
              "<Figure size 432x288 with 1 Axes>"
            ]
          },
          "metadata": {
            "tags": []
          }
        },
        {
          "output_type": "stream",
          "text": [
            "El valor más cercano por la izq. es:  0.91175 \n",
            "El valor más cercano por la der. es:  0.91796 \n",
            "El error es de (%):  0.62 %\n"
          ],
          "name": "stdout"
        }
      ]
    }
  ]
}