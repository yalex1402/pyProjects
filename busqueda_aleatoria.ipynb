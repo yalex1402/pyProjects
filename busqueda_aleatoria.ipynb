{
  "nbformat": 4,
  "nbformat_minor": 0,
  "metadata": {
    "colab": {
      "name": "busqueda_aleatoria.ipynb",
      "provenance": [],
      "collapsed_sections": [],
      "include_colab_link": true
    },
    "kernelspec": {
      "name": "python3",
      "display_name": "Python 3"
    }
  },
  "cells": [
    {
      "cell_type": "markdown",
      "metadata": {
        "id": "view-in-github",
        "colab_type": "text"
      },
      "source": [
        "<a href=\"https://colab.research.google.com/github/yalex1402/pyProjects/blob/master/busqueda_aleatoria.ipynb\" target=\"_parent\"><img src=\"https://colab.research.google.com/assets/colab-badge.svg\" alt=\"Open In Colab\"/></a>"
      ]
    },
    {
      "cell_type": "code",
      "metadata": {
        "id": "Ln1cfSOIEmxS",
        "colab_type": "code",
        "colab": {}
      },
      "source": [
        "#Import libraries\n",
        "import sympy as sy\n",
        "import numpy as np\n",
        "import math as mt\n",
        "import random as r\n",
        "import matplotlib.pyplot as plt"
      ],
      "execution_count": 0,
      "outputs": []
    },
    {
      "cell_type": "code",
      "metadata": {
        "id": "-ZpSsPWNF9n2",
        "colab_type": "code",
        "colab": {}
      },
      "source": [
        "#Global variables and methods\n",
        "\n",
        "var1_0 = 0\n",
        "var1_1 = 0\n",
        "var2_0 = 0\n",
        "var2_1 = 0\n",
        "random = 0\n",
        "result = 0\n",
        "\n",
        "# Ingresar función manualmente\n",
        "def get_function_result(x,y):\n",
        "  return (y-x-(2*(x**2))-(2*x*y)-(y**2))\n",
        "\n",
        "def get_random():\n",
        "  return r.random()\n",
        "\n",
        "def get_new_number(var0, var1 , r):\n",
        "  return var1 + ((var0 - var1) * r)"
      ],
      "execution_count": 0,
      "outputs": []
    },
    {
      "cell_type": "code",
      "metadata": {
        "id": "0wI52gAmF99L",
        "colab_type": "code",
        "outputId": "44f72c82-9163-4bb9-9be7-e726ada188c6",
        "colab": {
          "base_uri": "https://localhost:8080/",
          "height": 120
        }
      },
      "source": [
        "var1_0 = float(input(\"Valor más bajo del rango de X: \"))\n",
        "var1_1 = float(input(\"Valor más alto del rango de X: \"))\n",
        "var2_0 = float(input(\"Valor más bajo del rango de Y: \"))\n",
        "var2_1 = float(input(\"Valor más alto del rango de Y: \"))\n",
        "cant_iteraciones = int(input(\"Cantidad de iteraciones a realizar: \"))"
      ],
      "execution_count": 0,
      "outputs": [
        {
          "output_type": "stream",
          "text": [
            "Valor más bajo del rango de X: 3\n",
            "Valor más alto del rango de X: 5\n",
            "Valor más bajo del rango de Y: 6\n",
            "Valor más alto del rango de Y: 7\n",
            "Cantidad de iteraciones a realizar: 4\n"
          ],
          "name": "stdout"
        }
      ]
    },
    {
      "cell_type": "code",
      "metadata": {
        "id": "68IeAHbEaDLp",
        "colab_type": "code",
        "outputId": "630b7e1b-3d46-4787-f2af-58fd18cf5074",
        "colab": {
          "base_uri": "https://localhost:8080/",
          "height": 34
        }
      },
      "source": [
        "random = get_random()\n",
        "result = get_function_result(get_new_number(var1_0,var1_1,random),get_new_number(var2_0,var2_1,random))\n",
        "for i in range(cant_iteraciones):\n",
        "  random = get_random()\n",
        "  aux = get_function_result(get_new_number(var1_0,var1_1,random),get_new_number(var2_0,var2_1,random))\n",
        "  if (result > aux):\n",
        "    result = aux\n",
        "print(\"Resultado más pequeño encontrado en las iteraciones realizadas: \",result)\n",
        "  "
      ],
      "execution_count": 0,
      "outputs": [
        {
          "output_type": "stream",
          "text": [
            "Resultado más pequeño encontrado en las iteraciones realizadas:  -161.60865633630954\n"
          ],
          "name": "stdout"
        }
      ]
    }
  ]
}